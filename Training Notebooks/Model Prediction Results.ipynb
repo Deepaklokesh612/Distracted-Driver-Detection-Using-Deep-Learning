{
 "cells": [
  {
   "cell_type": "markdown",
   "metadata": {},
   "source": [
    "# MODEL PREDICTION\n",
    "\n",
    "We will predict the results of prediction on the test images provided in the competition using the best models generated from each of the following approaches "
   ]
  },
  {
   "cell_type": "markdown",
   "metadata": {},
   "source": [
    "Approaches followed for model creation\n",
    "1. Creating the Self designned CNN from scratch \n",
    "2. Using the Vgg16 architecture as a base and fine tuning the last layer"
   ]
  },
  {
   "cell_type": "code",
   "execution_count": 1,
   "metadata": {
    "scrolled": true
   },
   "outputs": [],
   "source": [
    "import os\n",
    "import json\n",
    "from keras.models import load_model\n",
    "import pandas as pd\n",
    "import pickle\n",
    "import numpy as np\n",
    "import shutil\n",
    "\n",
    "from keras.preprocessing import image                  \n",
    "from tqdm.notebook import tqdm\n",
    "from PIL import ImageFile                            \n"
   ]
  },
  {
   "cell_type": "code",
   "execution_count": 2,
   "metadata": {},
   "outputs": [],
   "source": [
    "BASE_MODEL_PATH = os.path.join(os.getcwd(),\"model\")\n",
    "TEST_DIR = os.path.join(os.getcwd(),\"csv_files\",\"test.csv\")\n",
    "PREDICT_DIR = os.path.join(os.getcwd(),\"pred_dir\")\n",
    "PICKLE_DIR = os.path.join(os.getcwd(),\"pickle_files\")\n",
    "JSON_DIR = os.path.join(os.getcwd(),\"json_files\")"
   ]
  },
  {
   "cell_type": "code",
   "execution_count": 3,
   "metadata": {},
   "outputs": [],
   "source": [
    "if not os.path.exists(PREDICT_DIR):\n",
    "    os.makedirs(PREDICT_DIR)\n",
    "else:\n",
    "    shutil.rmtree(PREDICT_DIR)\n",
    "    os.makedirs(PREDICT_DIR)\n",
    "if not os.path.exists(JSON_DIR):\n",
    "    os.makedirs(JSON_DIR)"
   ]
  },
  {
   "cell_type": "markdown",
   "metadata": {},
   "source": [
    "# Prediction using-->Self Trained Model (CNN Scratch)"
   ]
  },
  {
   "cell_type": "code",
   "execution_count": 4,
   "metadata": {},
   "outputs": [
    {
     "name": "stdout",
     "output_type": "stream",
     "text": [
      "Model: \"sequential\"\n",
      "_________________________________________________________________\n",
      " Layer (type)                Output Shape              Param #   \n",
      "=================================================================\n",
      " conv2d (Conv2D)             (None, 64, 64, 64)        832       \n",
      "                                                                 \n",
      " max_pooling2d (MaxPooling2D  (None, 32, 32, 64)       0         \n",
      " )                                                               \n",
      "                                                                 \n",
      " conv2d_1 (Conv2D)           (None, 32, 32, 128)       32896     \n",
      "                                                                 \n",
      " max_pooling2d_1 (MaxPooling  (None, 16, 16, 128)      0         \n",
      " 2D)                                                             \n",
      "                                                                 \n",
      " conv2d_2 (Conv2D)           (None, 16, 16, 256)       131328    \n",
      "                                                                 \n",
      " max_pooling2d_2 (MaxPooling  (None, 8, 8, 256)        0         \n",
      " 2D)                                                             \n",
      "                                                                 \n",
      " conv2d_3 (Conv2D)           (None, 8, 8, 512)         524800    \n",
      "                                                                 \n",
      " max_pooling2d_3 (MaxPooling  (None, 4, 4, 512)        0         \n",
      " 2D)                                                             \n",
      "                                                                 \n",
      " dropout (Dropout)           (None, 4, 4, 512)         0         \n",
      "                                                                 \n",
      " flatten (Flatten)           (None, 8192)              0         \n",
      "                                                                 \n",
      " dense (Dense)               (None, 500)               4096500   \n",
      "                                                                 \n",
      " dropout_1 (Dropout)         (None, 500)               0         \n",
      "                                                                 \n",
      " dense_1 (Dense)             (None, 10)                5010      \n",
      "                                                                 \n",
      "=================================================================\n",
      "Total params: 4,791,366\n",
      "Trainable params: 4,791,366\n",
      "Non-trainable params: 0\n",
      "_________________________________________________________________\n"
     ]
    }
   ],
   "source": [
    "BEST_MODEL = os.path.join(BASE_MODEL_PATH,\"self_trained\",\"distracted-21-1.00.hdf5\")\n",
    "model = load_model(BEST_MODEL)\n",
    "model.summary()"
   ]
  },
  {
   "cell_type": "code",
   "execution_count": 5,
   "metadata": {},
   "outputs": [
    {
     "name": "stdout",
     "output_type": "stream",
     "text": [
      "<class 'pandas.core.frame.DataFrame'>\n",
      "RangeIndex: 1000 entries, 0 to 999\n",
      "Data columns (total 2 columns):\n",
      " #   Column     Non-Null Count  Dtype \n",
      "---  ------     --------------  ----- \n",
      " 0   FileName   1000 non-null   object\n",
      " 1   ClassName  1000 non-null   object\n",
      "dtypes: object(2)\n",
      "memory usage: 15.8+ KB\n"
     ]
    }
   ],
   "source": [
    "data_test = pd.read_csv(os.path.join(TEST_DIR))\n",
    "#testing on the only 10000 images as loading the all test images requires ram>8gb\n",
    "data_test = data_test[:1000] \n",
    "data_test.info()"
   ]
  },
  {
   "cell_type": "code",
   "execution_count": 6,
   "metadata": {},
   "outputs": [
    {
     "name": "stdout",
     "output_type": "stream",
     "text": [
      "{'c8': 0, 'c5': 1, 'c6': 2, 'c4': 3, 'c0': 4, 'c2': 5, 'c1': 6, 'c7': 7, 'c3': 8, 'c9': 9}\n"
     ]
    }
   ],
   "source": [
    "with open(os.path.join(PICKLE_DIR,\"labels_list.pkl\"),\"rb\") as handle:\n",
    "    labels_id = pickle.load(handle)\n",
    "print(labels_id)\n",
    "# labels_id = {'c1': 0, 'c6': 1, 'c5': 2, 'c8': 3, 'c3': 4, 'c0': 5, 'c7': 6, 'c2': 7, 'c4': 8, 'c9': 9}"
   ]
  },
  {
   "cell_type": "code",
   "execution_count": 7,
   "metadata": {},
   "outputs": [
    {
     "data": {
      "application/vnd.jupyter.widget-view+json": {
       "model_id": "4321b44171ad40fda03bdc0d4f5ac886",
       "version_major": 2,
       "version_minor": 0
      },
      "text/plain": [
       "  0%|          | 0/1000 [00:00<?, ?it/s]"
      ]
     },
     "metadata": {},
     "output_type": "display_data"
    }
   ],
   "source": [
    "from PIL import ImageFile\n",
    "from tensorflow.keras.preprocessing import image \n",
    "from tensorflow.keras.preprocessing.image import load_img\n",
    "\n",
    "def path_to_tensor(img_path):\n",
    "    # loads RGB image as PIL.Image.Image type\n",
    "    img = image.load_img(img_path, target_size=(64, 64))\n",
    "    # convert PIL.Image.Image type to 3D tensor with shape (224, 224, 3)\n",
    "    x = image.img_to_array(img)\n",
    "    # convert 3D tensor to 4D tensor with shape (1, 224, 224, 3) and return 4D tensor\n",
    "    return np.expand_dims(x, axis=0)\n",
    "\n",
    "def paths_to_tensor(img_paths):\n",
    "    list_of_tensors = [path_to_tensor(img_path) for img_path in tqdm(img_paths)]\n",
    "    return np.vstack(list_of_tensors)\n",
    "\n",
    "ImageFile.LOAD_TRUNCATED_IMAGES = True  \n",
    "test_tensors = paths_to_tensor(data_test.iloc[:,0]).astype('float32')/255 - 0.5"
   ]
  },
  {
   "cell_type": "code",
   "execution_count": 8,
   "metadata": {},
   "outputs": [
    {
     "name": "stdout",
     "output_type": "stream",
     "text": [
      "32/32 [==============================] - 3s 77ms/step\n",
      "{0: 'c8', 1: 'c5', 2: 'c6', 3: 'c4', 4: 'c0', 5: 'c2', 6: 'c1', 7: 'c7', 8: 'c3', 9: 'c9'}\n"
     ]
    }
   ],
   "source": [
    "ypred_test = model.predict(test_tensors,verbose=1)\n",
    "ypred_class = np.argmax(ypred_test,axis=1)\n",
    "\n",
    "id_labels = dict()\n",
    "for class_name,idx in labels_id.items():\n",
    "    id_labels[idx] = class_name\n",
    "print(id_labels)\n",
    "\n",
    "for i in range(data_test.shape[0]):\n",
    "    data_test.iloc[i,1] = id_labels[ypred_class[i]]"
   ]
  },
  {
   "cell_type": "code",
   "execution_count": 9,
   "metadata": {},
   "outputs": [],
   "source": [
    "#to create a human readable and understandable class_name \n",
    "class_name = dict()\n",
    "class_name[\"c0\"] = \"SAFE_DRIVING\"\n",
    "class_name[\"c1\"] = \"TEXTING_RIGHT\"\n",
    "class_name[\"c2\"] = \"TALKING_PHONE_RIGHT\"\n",
    "class_name[\"c3\"] = \"TEXTING_LEFT\"\n",
    "class_name[\"c4\"] = \"TALKING_PHONE_LEFT\"\n",
    "class_name[\"c5\"] = \"OPERATING_RADIO\"\n",
    "class_name[\"c6\"] = \"DRINKING\"\n",
    "class_name[\"c7\"] = \"REACHING_BEHIND\"\n",
    "class_name[\"c8\"] = \"HAIR_AND_MAKEUP\"\n",
    "class_name[\"c9\"] = \"TALKING_TO_PASSENGER\"\n",
    "\n",
    "\n",
    "with open(os.path.join(JSON_DIR,'class_name_map.json'),'w') as secret_input:\n",
    "    json.dump(class_name,secret_input,indent=4,sort_keys=True)\n"
   ]
  },
  {
   "cell_type": "code",
   "execution_count": 10,
   "metadata": {},
   "outputs": [],
   "source": [
    "# Load JSON data\n",
    "with open(os.path.join(JSON_DIR, 'class_name_map.json')) as secret_input:\n",
    "    info = json.load(secret_input)\n",
    "\n",
    "# Destination directory\n",
    "dest_dir = \"C:/Users/Deepak L/Music/Distracted-Driver-Detection-master/pred_dir\"\n",
    "\n",
    "# Iterate over each row in the DataFrame\n",
    "for i in range(data_test.shape[0]):\n",
    "    # Extract file name without extension\n",
    "    file_name = os.path.basename(data_test.iloc[i, 0]).split(\".\")[0]\n",
    "    # Extract class name from JSON and create new file name\n",
    "    new_name = f\"{file_name}_{info[data_test.iloc[i, 1]]}.jpg\"\n",
    "    # Source file path\n",
    "    src_file = data_test.iloc[i, 0]\n",
    "    # Destination file path\n",
    "    dest_file = os.path.join(dest_dir, new_name)\n",
    "    \n",
    "    # Check if file exists before copying\n",
    "    if os.path.exists(src_file):\n",
    "        shutil.copy(src_file, dest_file)\n",
    "    else:\n",
    "        print(f\"File not found: {src_file}\")\n"
   ]
  },
  {
   "cell_type": "code",
   "execution_count": null,
   "metadata": {},
   "outputs": [],
   "source": []
  }
 ],
 "metadata": {
  "kernelspec": {
   "display_name": "Python 3 (ipykernel)",
   "language": "python",
   "name": "python3"
  },
  "language_info": {
   "codemirror_mode": {
    "name": "ipython",
    "version": 3
   },
   "file_extension": ".py",
   "mimetype": "text/x-python",
   "name": "python",
   "nbconvert_exporter": "python",
   "pygments_lexer": "ipython3",
   "version": "3.10.14"
  }
 },
 "nbformat": 4,
 "nbformat_minor": 4
}
